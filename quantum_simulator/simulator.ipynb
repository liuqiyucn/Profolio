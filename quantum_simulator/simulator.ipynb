{
 "cells": [
  {
   "cell_type": "code",
   "execution_count": 250,
   "id": "2f0a4e56-84c8-4df6-9538-1cf330c6b3e3",
   "metadata": {},
   "outputs": [],
   "source": [
    "import math\n",
    "import numpy as np\n",
    "import matplotlib.pyplot as plt\n",
    "import random\n",
    "class QuantumCircuit:\n",
    "    def __init__(self, n):\n",
    "        self.n = n\n",
    "        # self.state = {}\n",
    "        self.initialize_state()\n",
    "    def initialize_state(self, i=0):\n",
    "        key = format(i, f'0{self.n}b')\n",
    "        self.state = {key: 1.0}\n",
    "\n",
    "    def x(self, i):\n",
    "        new_state = {}\n",
    "        for key, value in self.state.items():\n",
    "            flipped_key = key[:self.n -i-1] + ('1' if key[self.n -i-1] == '0' else '0') + key[self.n -i:]\n",
    "            new_state[flipped_key] = value\n",
    "        self.state = new_state\n",
    "\n",
    "    def z(self, i):\n",
    "        \n",
    "        for key in self.state:\n",
    "            if key[self.n -i-1] == '1':\n",
    "                self.state[key] *= -1\n",
    "\n",
    "    def t(self, i):\n",
    "      \n",
    "        for key in self.state:\n",
    "            if key[self.n -i-1] == '1':\n",
    "                self.state[key] *= np.exp(1j * np.pi / 4)\n",
    "\n",
    "    def tdag(self, i):\n",
    "        \n",
    "        for key in self.state:\n",
    "            if key[self.n -i-1] == '1':\n",
    "                self.state[key] *= np.exp(-1j * np.pi / 4)\n",
    "\n",
    "    def cx(self, control, target):\n",
    "        new_state = {}\n",
    "        for key, value in self.state.items():\n",
    "            if key[self.n -control -1] == '1':\n",
    "                flipped_key = key[:self.n -target -1] + ('1' if key[self.n -target-1] == '0' else '0') + key[self.n -target:]\n",
    "                new_state[flipped_key] = value  # Reverse the binary string before adding\n",
    "            else:\n",
    "                new_state[key] = value  # Reverse the binary string before adding\n",
    "        self.state = new_state\n",
    "\n",
    "    def h(self, i):\n",
    "        new_state = {}\n",
    "        for key, value in self.state.items():\n",
    "            key_0 = key[:self.n -i-1]+'0' +key[self.n -i:]\n",
    "            key_1 = key[:self.n -i-1]+'1' +key[self.n -i:]\n",
    "\n",
    "            # Add or update the amplitude for key_0\n",
    "            new_state[key_0] = new_state.get(key_0, 0) + value / np.sqrt(2)\n",
    "\n",
    "            # Add or update the amplitude for key_1, with a sign flip if the original bit was 1\n",
    "            new_state[key_1] = new_state.get(key_1, 0) + (-value if key[self.n -i -1] == '1' else value) / np.sqrt(2)\n",
    "        \n",
    "        self.state = new_state\n",
    "\n",
    "\n",
    "\n",
    "\n",
    "    def measure(self, i, shots=1):\n",
    "        counts = {'0': 0, '1': 0}\n",
    "    \n",
    "        for _ in range(shots):\n",
    "            # Calculate probabilities\n",
    "            probability_of_1 = 0.0\n",
    "            for key, value in self.state.items():\n",
    "                if key[self.n - 1 - i] == '1':\n",
    "                    probability_of_1 += abs(value)**2\n",
    "    \n",
    "            # Randomly decide the measurement outcome\n",
    "            measurement = '1' if random.random() < probability_of_1 else '0'\n",
    "            counts[measurement] += 1\n",
    "    \n",
    "            if shots == 1:\n",
    "                # Collapse and normalize the state for a single shot\n",
    "                new_state = {}\n",
    "                for key, value in self.state.items():\n",
    "                    if key[self.n - 1 - i] == measurement:\n",
    "                        new_state[key] = value\n",
    "    \n",
    "                norm_factor = math.sqrt(sum(abs(value)**2 for value in new_state.values()))\n",
    "                for key in new_state:\n",
    "                    new_state[key] /= norm_factor\n",
    "    \n",
    "                self.state = new_state\n",
    "                return new_state \n",
    "        prob =  {key: value / shots for key, value in counts.items()}\n",
    "        return counts, prob\n",
    "\n",
    "    def cleanup_state(self, threshold=1e-6,  decimals=5):\n",
    "        \n",
    "        new_state = {}\n",
    "        for key, value in self.state.items():\n",
    "            rounded_value = round(value.real, decimals) + round(value.imag, decimals) * 1j\n",
    "            if abs(rounded_value) >= threshold:\n",
    "                new_state[key] = rounded_value\n",
    "        \n",
    "        self.state = new_state if new_state else self.initialize_state()\n",
    "\n",
    "\n"
   ]
  },
  {
   "cell_type": "code",
   "execution_count": 155,
   "id": "69b61aaa-a610-423f-864f-8aedbc642603",
   "metadata": {},
   "outputs": [
    {
     "name": "stdout",
     "output_type": "stream",
     "text": [
      "{'00': 0.49999999999999994, '10': (0.35355339059327373+0.35355339059327373j), '01': (-0.35355339059327373-0.35355339059327373j), '11': -0.5j}\n"
     ]
    }
   ],
   "source": [
    "# Example usage\n",
    "qc = QuantumCircuit(2)\n",
    "qc.initialize_state(1)\n",
    "\n",
    "qc.h(0)\n",
    "qc.h(1)\n",
    "qc.t(0)\n",
    "qc.t(1)\n",
    "print(qc.state)\n",
    "# counts, prob = qc.measure(1, shots=100)  # Measure qubit 1 with 10 shots\n",
    "\n",
    "# # Plotting the results\n",
    "# plt.bar(prob.keys(), prob.values())\n",
    "# plt.xlabel('State')\n",
    "# plt.ylabel('Counts')\n",
    "# plt.title('Measurement Results')\n",
    "# plt.show()\n",
    "# print(prob)"
   ]
  },
  {
   "cell_type": "code",
   "execution_count": 270,
   "id": "adee691a-1c51-4cac-923a-2ffb223e905d",
   "metadata": {},
   "outputs": [],
   "source": [
    "def execute_qasm(file_path):\n",
    "    # First, determine the number of qubits from the qreg declaration\n",
    "    n_qubits = 0\n",
    "    f = open(file_path, \"r\")\n",
    "    file = f.readlines()\n",
    "    for line in file:\n",
    "        # Remove comments and whitespace\n",
    "        line = line.split(\"//\")[0].strip()\n",
    "\n",
    "        # Skip empty lines and non-qreg declarations\n",
    "        if not line or 'OPENQASM' in line or 'include' in line or 'creg' in line:\n",
    "            continue\n",
    "\n",
    "        if 'qreg' in line:\n",
    "            # Format 'qreg q[n];'\n",
    "            n_qubits = int(line.split('[')[1].split(']')[0])\n",
    "            # print(n_qubits)\n",
    "            break\n",
    "\n",
    "    # Initialize the QuantumCircuit with the correct number of qubits\n",
    "    qc = QuantumCircuit(n_qubits)\n",
    "    # print(qc.state)\n",
    "    # Now execute the operations\n",
    "    with open(file_path, 'r') as file:\n",
    "        for line in file:\n",
    "            # Remove any comments and whitespace\n",
    "            line = line.split(\"//\")[0].strip()\n",
    "\n",
    "            # Skip non-gate lines\n",
    "            if not line or 'OPENQASM' in line or 'include' in line or 'qreg' in line or 'creg' in line:\n",
    "                continue\n",
    "\n",
    "            # Break the line into operation and its parameters\n",
    "            parts = line.split()\n",
    "            operation = parts[0]\n",
    "\n",
    "            if operation == 'cx':\n",
    "                control, target = map(lambda x: int(x.split('[')[1].split(']')[0]), parts[1].split(','))\n",
    "                qc.cx(control, target)\n",
    "            elif operation == 'x':\n",
    "                target = int(parts[1].split('[')[1].split(']')[0])\n",
    "                qc.x(target)\n",
    "            elif operation == 'z':\n",
    "                target = int(parts[1].split('[')[1].split(']')[0])\n",
    "                qc.z(target)\n",
    "            elif operation == 'h':\n",
    "                target = int(parts[1].split('[')[1].split(']')[0])\n",
    "                qc.h(target)\n",
    "            elif operation == 't':\n",
    "                target = int(parts[1].split('[')[1].split(']')[0])\n",
    "                qc.t(target)\n",
    "            elif operation == 'tdg':\n",
    "                target = int(parts[1].split('[')[1].split(']')[0])\n",
    "                qc.tdag(target)\n",
    "            else:\n",
    "                print(f\"Unknown operation: {operation}\")\n",
    "                \n",
    "            # print(\"State after operation:\", qc.state)\n",
    "    qc.cleanup_state()\n",
    "    return print(qc.state)\n",
    "\n",
    "# # Example usage\n",
    "# qc = execute_qasm('miller_11.qasm')\n"
   ]
  },
  {
   "cell_type": "code",
   "execution_count": 271,
   "id": "bae607dd-33af-47d6-9926-7784a316ad46",
   "metadata": {},
   "outputs": [
    {
     "name": "stdout",
     "output_type": "stream",
     "text": [
      "{'0000000000000000': (1+0j)}\n"
     ]
    }
   ],
   "source": [
    "# Example usage\n",
    "qc = execute_qasm('miller_11.qasm')"
   ]
  },
  {
   "cell_type": "code",
   "execution_count": 253,
   "id": "43b5f557-8c61-49ed-a85b-ac50c082758c",
   "metadata": {},
   "outputs": [
    {
     "name": "stdout",
     "output_type": "stream",
     "text": [
      "{'0000000001000000': (1+0j)}\n"
     ]
    }
   ],
   "source": [
    "qc = execute_qasm('alu-bdd_288.qasm')"
   ]
  },
  {
   "cell_type": "code",
   "execution_count": 254,
   "id": "c84f35cb-86fa-4318-bbc3-b1fc23da9b3b",
   "metadata": {},
   "outputs": [
    {
     "name": "stdout",
     "output_type": "stream",
     "text": [
      "{'0000000000001110': (1+0j)}\n"
     ]
    }
   ],
   "source": [
    "qc = execute_qasm('cm152a_212.qasm')"
   ]
  },
  {
   "cell_type": "code",
   "execution_count": 255,
   "id": "1d4c419e-c499-4194-9c99-ebc3abeff3a7",
   "metadata": {},
   "outputs": [
    {
     "name": "stdout",
     "output_type": "stream",
     "text": [
      "{'0000000000000000': (1+0j)}\n"
     ]
    }
   ],
   "source": [
    "qc = execute_qasm('cnt3-5_179.qasm')"
   ]
  },
  {
   "cell_type": "code",
   "execution_count": 256,
   "id": "30d57431-cd44-439a-ae4c-2eb5654b9825",
   "metadata": {},
   "outputs": [
    {
     "name": "stdout",
     "output_type": "stream",
     "text": [
      "{'0000000011101001': (1+0j)}\n"
     ]
    }
   ],
   "source": [
    "qc = execute_qasm('con1_216.qasm')"
   ]
  },
  {
   "cell_type": "code",
   "execution_count": 257,
   "id": "0b66dda9-b8e8-47f5-ab52-caae8dab5477",
   "metadata": {},
   "outputs": [
    {
     "name": "stdout",
     "output_type": "stream",
     "text": [
      "{'0000000000001000': (1+0j)}\n"
     ]
    }
   ],
   "source": [
    "qc = execute_qasm('decod24-v2_43.qasm')"
   ]
  },
  {
   "cell_type": "code",
   "execution_count": 258,
   "id": "2bc6b4ae-c09b-47c9-b933-b0617dceea8c",
   "metadata": {},
   "outputs": [
    {
     "name": "stdout",
     "output_type": "stream",
     "text": [
      "{'0000000001100000': (1+0j)}\n"
     ]
    }
   ],
   "source": [
    "qc = execute_qasm('f2_232.qasm')"
   ]
  },
  {
   "cell_type": "code",
   "execution_count": 259,
   "id": "5a2a6b8d-915a-4b4b-8a45-5196529464f4",
   "metadata": {},
   "outputs": [
    {
     "name": "stdout",
     "output_type": "stream",
     "text": [
      "{'0000000000000000': (1+0j)}\n"
     ]
    }
   ],
   "source": [
    "qc = execute_qasm('hwb5_53.qasm')"
   ]
  },
  {
   "cell_type": "code",
   "execution_count": 260,
   "id": "81d13c52-4e4a-4853-8868-145c20f2ebf4",
   "metadata": {},
   "outputs": [
    {
     "name": "stdout",
     "output_type": "stream",
     "text": [
      "{'0000000110000000': (1+0j)}\n"
     ]
    }
   ],
   "source": [
    "qc = execute_qasm('mini_alu_305.qasm')"
   ]
  },
  {
   "cell_type": "code",
   "execution_count": 261,
   "id": "b627f1e9-11e6-44dd-8a1e-690ff827aab9",
   "metadata": {},
   "outputs": [
    {
     "name": "stdout",
     "output_type": "stream",
     "text": [
      "{'0000000000000011': (1+0j)}\n"
     ]
    }
   ],
   "source": [
    "qc = execute_qasm('one-two-three-v3_101.qasm')"
   ]
  },
  {
   "cell_type": "code",
   "execution_count": 262,
   "id": "e0e56b35-7cff-4e43-abea-79549b0085a3",
   "metadata": {},
   "outputs": [
    {
     "name": "stdout",
     "output_type": "stream",
     "text": [
      "{'0000000000000000': (1+0j)}\n"
     ]
    }
   ],
   "source": [
    "qc = execute_qasm('rd84_142.qasm')"
   ]
  },
  {
   "cell_type": "code",
   "execution_count": 263,
   "id": "1584dd13-301f-4d17-ac60-a8177ebc7bcf",
   "metadata": {},
   "outputs": [
    {
     "name": "stdout",
     "output_type": "stream",
     "text": [
      "{'0001101100000000': (1+0j)}\n"
     ]
    }
   ],
   "source": [
    "qc = execute_qasm('squar5_261.qasm')"
   ]
  },
  {
   "cell_type": "code",
   "execution_count": 264,
   "id": "6d683980-3402-4d81-a488-5a042652089d",
   "metadata": {},
   "outputs": [
    {
     "name": "stdout",
     "output_type": "stream",
     "text": [
      "{'0001000000000000': (1+0j)}\n"
     ]
    }
   ],
   "source": [
    "qc = execute_qasm('sym6_316.qasm')"
   ]
  },
  {
   "cell_type": "code",
   "execution_count": 265,
   "id": "7ec3f124-a5d1-4320-9671-c95625db0b28",
   "metadata": {},
   "outputs": [
    {
     "name": "stdout",
     "output_type": "stream",
     "text": [
      "{'0000011111111011': (1+0j)}\n"
     ]
    }
   ],
   "source": [
    "qc = execute_qasm('wim_266.qasm')"
   ]
  },
  {
   "cell_type": "code",
   "execution_count": null,
   "id": "d5d535c0-25f5-4ed8-9448-47089958411c",
   "metadata": {},
   "outputs": [],
   "source": []
  }
 ],
 "metadata": {
  "kernelspec": {
   "display_name": "Python 3 (ipykernel)",
   "language": "python",
   "name": "python3"
  },
  "language_info": {
   "codemirror_mode": {
    "name": "ipython",
    "version": 3
   },
   "file_extension": ".py",
   "mimetype": "text/x-python",
   "name": "python",
   "nbconvert_exporter": "python",
   "pygments_lexer": "ipython3",
   "version": "3.10.10"
  }
 },
 "nbformat": 4,
 "nbformat_minor": 5
}
