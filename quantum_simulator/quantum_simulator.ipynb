{
 "cells": [
  {
   "cell_type": "code",
   "execution_count": 1,
   "metadata": {},
   "outputs": [],
   "source": [
    "import numpy as np\n",
    "from numpy import exp, sqrt, pi"
   ]
  },
  {
   "cell_type": "markdown",
   "metadata": {},
   "source": [
    "# QuantumSimulator Class"
   ]
  },
  {
   "cell_type": "code",
   "execution_count": 2,
   "metadata": {},
   "outputs": [],
   "source": [
    "def flip_at_index(binary_string, index):\n",
    "    \"\"\"\n",
    "    Flip the character at the specified index in a binary string.\n",
    "    \n",
    "    :param binary_string: A string consisting of '0's and '1's.\n",
    "    :param index: The index of the character to flip.\n",
    "    :return: The modified string with the character at the given index flipped.\n",
    "    \"\"\"\n",
    "    if index < 0 or index >= len(binary_string):\n",
    "        raise IndexError(\"Index out of range\")\n",
    "\n",
    "    # Convert the string to a list\n",
    "    char_list = list(binary_string)\n",
    "\n",
    "    # Flip the character at the specified index\n",
    "    char_list[index] = '0' if char_list[index] == '1' else '1'\n",
    "\n",
    "    # Convert the list back to a string and return\n",
    "    return ''.join(char_list)\n",
    "\n",
    "def replace_at_index(binary_string, index):\n",
    "    \"\"\"\n",
    "    Replace the character at the specified index in a binary string with '0' and '1'.\n",
    "\n",
    "    :param binary_string: A string consisting of '0's and '1's.\n",
    "    :param index: The index of the character to replace.\n",
    "    :return: Two strings, one with the character at the index replaced by '0' and the other by '1'.\n",
    "    \"\"\"\n",
    "    if index < 0 or index >= len(binary_string):\n",
    "        raise IndexError(\"Index out of range\")\n",
    "\n",
    "    # Convert the string to a list\n",
    "    char_list = list(binary_string)\n",
    "\n",
    "    # Create two copies of the list\n",
    "    list_with_0 = char_list.copy()\n",
    "    list_with_1 = char_list.copy()\n",
    "\n",
    "    # Replace the character at the specified index\n",
    "    list_with_0[index] = '0'\n",
    "    list_with_1[index] = '1'\n",
    "\n",
    "    # Convert the lists back to strings\n",
    "    return ''.join(list_with_0), ''.join(list_with_1)\n",
    "\n",
    "def round_complex(z):\n",
    "    \"\"\"\n",
    "    Round the real and imaginary parts of a complex number to five significant figures.\n",
    "\n",
    "    :param z: Complex number to be rounded.\n",
    "    :return: Complex number with real and imaginary parts rounded to five significant figures.\n",
    "    \"\"\"\n",
    "    return complex(round(z.real, 5), round(z.imag, 5))\n",
    "\n",
    "# QuantumSimulator class that create a quantum circuit and simulate the effect of the quantum gates\n",
    "# state vector is stored in dict, where the key correspond to the state, and the values correspond to probability amplittude\n",
    "class QuantumSimulator:\n",
    "    def __init__(self, N):\n",
    "        \"\"\"\n",
    "        Initialize the attributes to describe a QuantumSimulator with number of qubits.\n",
    "        \"\"\"\n",
    "        initial_state = '0' * N\n",
    "        state_vector = {initial_state : 1}\n",
    "        self.state = state_vector\n",
    "    \n",
    "    # apply x gate on the target \n",
    "    def x(self, target):\n",
    "        new_state = {}\n",
    "        for key, value in self.state.items():\n",
    "            new_key, new_value = key, value\n",
    "            new_key = flip_at_index(new_key, target)\n",
    "            new_state[new_key] = new_value\n",
    "        self.state = new_state\n",
    "\n",
    "    # apply h gate on the target\n",
    "    def h(self, target):\n",
    "        new_state = {}\n",
    "        for key, value in self.state.items():\n",
    "            factor = 1\n",
    "            if key[target] == '1':\n",
    "                factor = -1\n",
    "            new_key1, new_key2 = replace_at_index(key, target)\n",
    "            new_state[new_key1] = round_complex(1/sqrt(2)*value + new_state.get(new_key1, complex(0)))\n",
    "            new_state[new_key2] = round_complex(factor*1/sqrt(2)*value + new_state.get(new_key2, complex(0)))\n",
    "        self.state = new_state\n",
    "    \n",
    "    # apply t gate on the target\n",
    "    def t(self, target):\n",
    "        new_state = {}\n",
    "        for key, value in self.state.items():\n",
    "            new_key, new_value = key, value\n",
    "            if new_key[target] == '1':\n",
    "                new_value = round_complex(np.exp(1j*pi/4)*new_value)\n",
    "            new_state[new_key] = new_value\n",
    "        self.state = new_state      \n",
    "    \n",
    "    # apply tdg gate on the target\n",
    "    def t_dag(self, target):\n",
    "        new_state = {}\n",
    "        for key, value in self.state.items():\n",
    "            new_key, new_value = key, value\n",
    "            if new_key[target] == '1':\n",
    "                new_value = round_complex(np.exp(-1j*pi/4)*new_value)\n",
    "            new_state[new_key] = new_value\n",
    "        self.state = new_state  \n",
    "\n",
    "    # apply cx gate based on the control on the target\n",
    "    def cx(self, control, target):\n",
    "        new_state = {}\n",
    "        for key, value in self.state.items():\n",
    "            new_key, new_value = key, value\n",
    "            if new_key[control] == '1':\n",
    "                new_key = flip_at_index(new_key, target)\n",
    "            new_state[new_key] = new_value\n",
    "        self.state = new_state\n",
    "    \n",
    "    # clean up the state with 0 probability\n",
    "    def clean(self):\n",
    "        new_state = {}\n",
    "        for key, value in self.state.items():\n",
    "            new_key, new_value = key, value\n",
    "            if np.abs(value) != 0:\n",
    "                new_state[new_key] = new_value\n",
    "        self.state = new_state\n",
    "    \n",
    "    # clean the state and return state_vector output\n",
    "    def state_out(self):\n",
    "        self.clean()\n",
    "        return self.state\n",
    "    "
   ]
  },
  {
   "cell_type": "markdown",
   "metadata": {},
   "source": [
    "# Parsing QASM file and get state"
   ]
  },
  {
   "cell_type": "code",
   "execution_count": 3,
   "metadata": {},
   "outputs": [],
   "source": [
    "import re\n",
    "\n",
    "# helper functions\n",
    "\n",
    "def parse_operation(s):\n",
    "    \"\"\"\n",
    "    Parse a string operation and return a list with the operation and qubit indices.\n",
    "\n",
    "    :param s: A string representing the operation, e.g., 'cx q[0],q[1];'\n",
    "    :return: A list containing the operation name and qubit indices as integers.\n",
    "    \"\"\"\n",
    "    # Extract operation name (assuming it's always the first word)\n",
    "    operation = s.split()[0]\n",
    "\n",
    "    # Find all occurrences of numbers in square brackets\n",
    "    indices = [int(num) for num in re.findall(r'\\[([0-9]+)\\]', s)]\n",
    "\n",
    "    # Combine operation with indices\n",
    "    return [operation] + indices\n",
    "\n",
    "def find_max_integer_in_string_below_n(s, n):\n",
    "    \"\"\"\n",
    "    Find the maximum integer in a given string that is less than a specified value n.\n",
    "\n",
    "    :param s: Input string\n",
    "    :param n: The upper limit value\n",
    "    :return: Maximum integer found in the string below n, or None if no such integers are present\n",
    "    \"\"\"\n",
    "    # Extract all integers from the string\n",
    "    numbers = [int(num) for num in re.findall(r'\\d+', s)]\n",
    "\n",
    "    # Filter out numbers that are greater than or equal to n\n",
    "    numbers_below_n = [num for num in numbers if num < n]\n",
    "\n",
    "    # Return the maximum number if the filtered list is not empty, otherwise return None\n",
    "    return max(numbers_below_n) if numbers_below_n else None\n",
    "\n",
    "# accept .qasm file as a string input\n",
    "# execute the gate from the string input\n",
    "# return state vector output\n",
    "def parser(file_str):\n",
    "    operation = 0\n",
    "    num_qubits = 0\n",
    "\n",
    "    # Split the content into lines\n",
    "    lines = file_str.splitlines()\n",
    "\n",
    "    # get the number of qubits\n",
    "    for line in lines:\n",
    "        operation = parse_operation(line)\n",
    "        if operation[0] == 'qreg':\n",
    "            num_qubits = operation[1]\n",
    "            break\n",
    "\n",
    "    # create quantum circuit\n",
    "    num_qubits = find_max_integer_in_string_below_n(file_str, num_qubits) + 1\n",
    "    qc = QuantumSimulator(num_qubits)\n",
    "\n",
    "    # apply operation\n",
    "    for line in lines:\n",
    "        operation = parse_operation(line)\n",
    "        gate = operation[0]\n",
    "        if gate == 'x':\n",
    "            qc.x(operation[1])\n",
    "        elif gate == 'cx':\n",
    "            qc.cx(operation[1], operation[2])\n",
    "        elif gate == 't':\n",
    "            qc.t(operation[1])\n",
    "        elif gate == 'tdg':\n",
    "            qc.t_dag(operation[1])\n",
    "        elif gate == 'h':\n",
    "            qc.h(operation[1])\n",
    "        \n",
    "    return qc.state_out()\n",
    "\n",
    "# get the simulated result in cirq format\n",
    "def simulate(file_str):\n",
    "    output = parser(file_str)\n",
    "    states = list(output.keys())\n",
    "    state = states[0]\n",
    "    decimal = int(state, 2)\n",
    "    cirq_array = [0] * (2**len(state))\n",
    "    cirq_array[decimal] = 1\n",
    "    return cirq_array\n"
   ]
  },
  {
   "cell_type": "code",
   "execution_count": 4,
   "metadata": {},
   "outputs": [
    {
     "name": "stdout",
     "output_type": "stream",
     "text": [
      "con1_216.qasm\n",
      "{'100101110': (1+0j)}\n",
      "mini_alu_305.qasm\n",
      "{'0000000110': (1+0j)}\n",
      "sym6_316.qasm\n",
      "{'00000000000010': (1+0j)}\n",
      "miller_11.qasm\n",
      "{'000': (1+0j)}\n",
      "one-two-three-v3_101.qasm\n",
      "{'11000': (1+0j)}\n",
      "hwb5_53.qasm\n",
      "{'000000': (1+0j)}\n",
      "cm152a_212.qasm\n",
      "{'011100000000': (1+0j)}\n",
      "squar5_261.qasm\n",
      "{'0000000011011': (1+0j)}\n",
      "rd84_142.qasm\n",
      "{'000000000000000': (1+0j)}\n",
      "f2_232.qasm\n",
      "{'00000110': (1+0j)}\n",
      "alu-bdd_288.qasm\n",
      "{'0000001': (1+0j)}\n",
      "decod24-v2_43.qasm\n",
      "{'0001': (1+0j)}\n",
      "cnt3-5_179.qasm\n",
      "{'0000000000000000': (1+0j)}\n",
      "wim_266.qasm\n",
      "{'11011111111': (1+0j)}\n"
     ]
    }
   ],
   "source": [
    "import glob\n",
    "\n",
    "# List all files ending with '.qasm'\n",
    "qasm_files = glob.glob('*.qasm')\n",
    "\n",
    "for name in qasm_files:\n",
    "    with open(name, 'r') as f:\n",
    "        file = f.read()\n",
    "    print(name)\n",
    "    print(parser(file))"
   ]
  },
  {
   "cell_type": "markdown",
   "metadata": {},
   "source": [
    "# Observe runtime as gate numbers grow"
   ]
  },
  {
   "cell_type": "code",
   "execution_count": 37,
   "metadata": {},
   "outputs": [],
   "source": [
    "import time\n",
    "\n",
    "def my_function(gate_num):\n",
    "    qc = QuantumSimulator(1)\n",
    "    for i in range(gate_num):\n",
    "        qc.h(0)\n",
    "\n",
    "# Number of times you want to run the function\n",
    "num_runs = 500\n",
    "\n",
    "# List to store runtimes\n",
    "runtimes = []\n",
    "\n",
    "for i in range(num_runs):\n",
    "    start_time = time.time()  # Start time\n",
    "    my_function(i)             # Run the function\n",
    "    end_time = time.time()    # End time\n",
    "\n",
    "    # Calculate and store the runtime\n",
    "    runtime = end_time - start_time\n",
    "    runtimes.append(runtime)"
   ]
  },
  {
   "cell_type": "code",
   "execution_count": 39,
   "metadata": {},
   "outputs": [
    {
     "data": {
      "image/png": "[encoded data removed]",
      "text/plain": [
       "<Figure size 640x480 with 1 Axes>"
      ]
     },
     "metadata": {},
     "output_type": "display_data"
    }
   ],
   "source": [
    "import matplotlib.pyplot as plt\n",
    "\n",
    "plt.plot([i for i in range(num_runs)], runtimes)\n",
    "plt.xlabel('Gate number')\n",
    "plt.ylabel('runtime (s)')\n",
    "plt.show()"
   ]
  },
  {
   "cell_type": "markdown",
   "metadata": {},
   "source": [
    "# Observe runtime as Qubit numbers grow"
   ]
  },
  {
   "cell_type": "code",
   "execution_count": 40,
   "metadata": {},
   "outputs": [],
   "source": [
    "def my_function(qubit_num):\n",
    "    qc = QuantumSimulator(qubit_num)\n",
    "    for i in range(qubit_num):\n",
    "        qc.h(i)\n",
    "\n",
    "# Number of times you want to run the function\n",
    "qubit_num = 25\n",
    "\n",
    "# List to store runtimes\n",
    "runtimes = []\n",
    "\n",
    "for i in range(1, qubit_num):\n",
    "    start_time = time.time()  # Start time\n",
    "    my_function(i)             # Run the function\n",
    "    end_time = time.time()    # End time\n",
    "\n",
    "    # Calculate and store the runtime\n",
    "    runtime = end_time - start_time\n",
    "    runtimes.append(runtime)"
   ]
  },
  {
   "cell_type": "code",
   "execution_count": 41,
   "metadata": {},
   "outputs": [
    {
     "data": {
      "image/png": "[encoded data removed]",
      "text/plain": [
       "<Figure size 640x480 with 1 Axes>"
      ]
     },
     "metadata": {},
     "output_type": "display_data"
    }
   ],
   "source": [
    "plt.plot([i for i in range(1, qubit_num)], runtimes)\n",
    "plt.xlabel('Qubits number')\n",
    "plt.ylabel('runtime (s)')\n",
    "plt.show()"
   ]
  },
  {
   "cell_type": "markdown",
   "metadata": {},
   "source": [
    "# additonal testing"
   ]
  },
  {
   "cell_type": "code",
   "execution_count": 42,
   "metadata": {},
   "outputs": [
    {
     "name": "stdout",
     "output_type": "stream",
     "text": [
      "{'00': (0.70711+0j), '11': (0.70711+0j)}\n"
     ]
    }
   ],
   "source": [
    "qc = QuantumSimulator(2)\n",
    "qc.h(0)\n",
    "qc.cx(0,1)\n",
    "print(qc.state_out())"
   ]
  },
  {
   "cell_type": "code",
   "execution_count": 43,
   "metadata": {},
   "outputs": [
    {
     "name": "stdout",
     "output_type": "stream",
     "text": [
      "{'000': (0.35355+0j), '001': (0.35355+0j), '010': (0.35355+0j), '011': (0.35355+0j), '100': (0.35355+0j), '101': (0.35355+0j), '110': (0.35355+0j), '111': (0.35355+0j)}\n"
     ]
    }
   ],
   "source": [
    "qc = QuantumSimulator(3)\n",
    "qc.h(0)\n",
    "qc.h(1)\n",
    "qc.h(2)\n",
    "print(qc.state_out())"
   ]
  },
  {
   "cell_type": "code",
   "execution_count": 44,
   "metadata": {},
   "outputs": [
    {
     "name": "stdout",
     "output_type": "stream",
     "text": [
      "{'000': (0.35355+0j), '001': (0.35355+0j), '010': (0.35355+0j), '011': (0.35355+0j), '110': (0.35355+0j), '111': (0.35355+0j), '100': (0.35355+0j), '101': (0.35355+0j)}\n"
     ]
    }
   ],
   "source": [
    "qc = QuantumSimulator(3)\n",
    "qc.h(0)\n",
    "qc.h(1)\n",
    "qc.h(2)\n",
    "qc.cx(0, 1)\n",
    "print(qc.state_out())"
   ]
  },
  {
   "cell_type": "code",
   "execution_count": 46,
   "metadata": {},
   "outputs": [
    {
     "name": "stdout",
     "output_type": "stream",
     "text": [
      "{'1': (-1+0j)}\n"
     ]
    }
   ],
   "source": [
    "qc = QuantumSimulator(1)\n",
    "qc.x(0)\n",
    "qc.t(0)\n",
    "qc.t(0)\n",
    "qc.t(0)\n",
    "qc.t(0)\n",
    "print(qc.state_out())"
   ]
  },
  {
   "cell_type": "code",
   "execution_count": 47,
   "metadata": {},
   "outputs": [
    {
     "name": "stdout",
     "output_type": "stream",
     "text": [
      "{'1': (1+0j)}\n"
     ]
    }
   ],
   "source": [
    "qc = QuantumSimulator(1)\n",
    "qc.x(0)\n",
    "qc.t(0)\n",
    "qc.t_dag(0)\n",
    "print(qc.state_out())"
   ]
  }
 ],
 "metadata": {
  "kernelspec": {
   "display_name": "M238",
   "language": "python",
   "name": "python3"
  },
  "language_info": {
   "codemirror_mode": {
    "name": "ipython",
    "version": 3
   },
   "file_extension": ".py",
   "mimetype": "text/x-python",
   "name": "python",
   "nbconvert_exporter": "python",
   "pygments_lexer": "ipython3",
   "version": "3.8.18"
  }
 },
 "nbformat": 4,
 "nbformat_minor": 2
}
