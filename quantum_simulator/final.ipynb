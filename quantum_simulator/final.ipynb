{
 "cells": [
  {
   "cell_type": "code",
   "execution_count": 3,
   "metadata": {},
   "outputs": [
    {
     "data": {
      "image/png": "[encoded data removed]",
      "text/plain": [
       "<Figure size 621.739x200.667 with 1 Axes>"
      ]
     },
     "execution_count": 3,
     "metadata": {},
     "output_type": "execute_result"
    }
   ],
   "source": [
    "from qiskit import QuantumCircuit\n",
    "import numpy as np\n",
    "\n",
    "# Create a quantum circuit with 2 qubits\n",
    "qc = QuantumCircuit(2)\n",
    "\n",
    "# Apply Rz(-π/4) to the target qubit (qubit 1)\n",
    "qc.rz(-np.pi/4, 1)\n",
    "\n",
    "# Apply Rx(π/2) to the target qubit\n",
    "qc.rx(np.pi/2, 1)\n",
    "\n",
    "# Apply CNOT with qubit 0 as control and qubit 1 as target\n",
    "qc.cx(0, 1)\n",
    "\n",
    "# Apply Rx(-π/2) to the target qubit\n",
    "qc.rx(-np.pi/2, 1)\n",
    "\n",
    "# Apply CNOT again with qubit 0 as control and qubit 1 as target\n",
    "qc.cx(0, 1)\n",
    "\n",
    "# Apply Rz(π/4) to the target qubit\n",
    "qc.rz(np.pi/4, 1)\n",
    "\n",
    "# Draw the circuit\n",
    "qc.draw(output='mpl')"
   ]
  },
  {
   "cell_type": "code",
   "execution_count": 4,
   "metadata": {},
   "outputs": [
    {
     "name": "stdout",
     "output_type": "stream",
     "text": [
      "Input State: [1, 0, 0, 0]\n",
      "Output Statevector: Statevector([9.23879533e-01-3.82683432e-01j,\n",
      "             0.00000000e+00+0.00000000e+00j,\n",
      "             2.82856528e-17+1.17163010e-17j,\n",
      "             0.00000000e+00+0.00000000e+00j],\n",
      "            dims=(2, 2))\n",
      "\n",
      "Input State: [0, 1, 0, 0]\n",
      "Output Statevector: Statevector([0.00000000e+00+0.00000000e+00j,\n",
      "             9.23879533e-01-3.82683432e-01j,\n",
      "             0.00000000e+00+0.00000000e+00j,\n",
      "             2.82856528e-17+1.17163010e-17j],\n",
      "            dims=(2, 2))\n",
      "\n",
      "Input State: [0, 0, 1, 0]\n",
      "Output Statevector: Statevector([-3.00424186e-17+7.25288143e-17j,\n",
      "              0.00000000e+00+0.00000000e+00j,\n",
      "              9.23879533e-01-3.82683432e-01j,\n",
      "              0.00000000e+00+0.00000000e+00j],\n",
      "            dims=(2, 2))\n",
      "\n",
      "Input State: [0, 0, 0, 1]\n",
      "Output Statevector: Statevector([ 0.00000000e+00+0.00000000e+00j,\n",
      "             -3.00424186e-17+7.25288143e-17j,\n",
      "              0.00000000e+00+0.00000000e+00j,\n",
      "              9.23879533e-01-3.82683432e-01j],\n",
      "            dims=(2, 2))\n",
      "\n"
     ]
    }
   ],
   "source": [
    "from qiskit import Aer, execute\n",
    "from qiskit.quantum_info import Statevector\n",
    "\n",
    "# Define your circuit 'qc' as before\n",
    "\n",
    "# Use the statevector simulator\n",
    "simulator = Aer.get_backend('statevector_simulator')\n",
    "\n",
    "# Define a function to test the circuit on a specific input state\n",
    "def test_controlled_s_gate(input_state):\n",
    "    # Initialize the circuit with the input state\n",
    "    test_circuit = QuantumCircuit(2)\n",
    "    test_circuit.initialize(input_state, [0, 1])\n",
    "    test_circuit.compose(qc, inplace=True)\n",
    "    \n",
    "    # Execute the circuit on the simulator\n",
    "    result = execute(test_circuit, simulator).result()\n",
    "    statevector = result.get_statevector()\n",
    "    \n",
    "    # Display the final statevector\n",
    "    print(f\"Input State: {input_state}\")\n",
    "    print(f\"Output Statevector: {statevector}\\n\")\n",
    "\n",
    "# Test the circuit on different basis states\n",
    "test_controlled_s_gate([1, 0, 0, 0])  # |00⟩ state\n",
    "test_controlled_s_gate([0, 1, 0, 0])  # |01⟩ state\n",
    "test_controlled_s_gate([0, 0, 1, 0])  # |10⟩ state\n",
    "test_controlled_s_gate([0, 0, 0, 1])  # |11⟩ state"
   ]
  }
 ],
 "metadata": {
  "kernelspec": {
   "display_name": "M238",
   "language": "python",
   "name": "python3"
  },
  "language_info": {
   "codemirror_mode": {
    "name": "ipython",
    "version": 3
   },
   "file_extension": ".py",
   "mimetype": "text/x-python",
   "name": "python",
   "nbconvert_exporter": "python",
   "pygments_lexer": "ipython3",
   "version": "3.8.18"
  }
 },
 "nbformat": 4,
 "nbformat_minor": 2
}
